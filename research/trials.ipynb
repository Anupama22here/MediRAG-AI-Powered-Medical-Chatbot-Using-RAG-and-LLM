{
 "cells": [
  {
   "cell_type": "code",
   "execution_count": 1,
   "id": "b4e871e8",
   "metadata": {},
   "outputs": [
    {
     "name": "stderr",
     "output_type": "stream",
     "text": [
      "/Users/anupamar/Documents/medical_chatbot/venvv/lib/python3.9/site-packages/urllib3/__init__.py:35: NotOpenSSLWarning: urllib3 v2 only supports OpenSSL 1.1.1+, currently the 'ssl' module is compiled with 'LibreSSL 2.8.3'. See: https://github.com/urllib3/urllib3/issues/3020\n",
      "  warnings.warn(\n"
     ]
    }
   ],
   "source": [
    "from langchain.document_loaders import PyPDFLoader, DirectoryLoader\n",
    "from langchain.text_splitter import RecursiveCharacterTextSplitter"
   ]
  },
  {
   "cell_type": "code",
   "execution_count": 2,
   "id": "a7252284",
   "metadata": {},
   "outputs": [],
   "source": [
    "#extract data\n",
    "def load_pdf(data):\n",
    "    loader=DirectoryLoader(data,\n",
    "                           glob='*.pdf',\n",
    "                           loader_cls=PyPDFLoader)\n",
    "    documents=loader.load()\n",
    "    return documents"
   ]
  },
  {
   "cell_type": "code",
   "execution_count": 3,
   "id": "dec53870",
   "metadata": {},
   "outputs": [],
   "source": [
    "import os\n",
    "os.chdir('../')"
   ]
  },
  {
   "cell_type": "code",
   "execution_count": 4,
   "id": "33dc366c",
   "metadata": {},
   "outputs": [],
   "source": [
    "extracted_data=load_pdf(data='data/')"
   ]
  },
  {
   "cell_type": "code",
   "execution_count": 5,
   "id": "51263576",
   "metadata": {},
   "outputs": [],
   "source": [
    "#split the data into text chunks\n",
    "def text_split(extracted_data):\n",
    "    text_splitter=RecursiveCharacterTextSplitter(chunk_size=500,chunk_overlap=20)\n",
    "    text_chunks=text_splitter.split_documents(extracted_data)\n",
    "    return text_chunks"
   ]
  },
  {
   "cell_type": "code",
   "execution_count": 6,
   "id": "9c0c68ad",
   "metadata": {},
   "outputs": [
    {
     "name": "stdout",
     "output_type": "stream",
     "text": [
      "40000\n"
     ]
    }
   ],
   "source": [
    "text_chunks=text_split(extracted_data)\n",
    "print(len(text_chunks))"
   ]
  },
  {
   "cell_type": "code",
   "execution_count": 7,
   "id": "c2ca5e3f",
   "metadata": {},
   "outputs": [],
   "source": [
    "from langchain.embeddings import HuggingFaceEmbeddings"
   ]
  },
  {
   "cell_type": "code",
   "execution_count": null,
   "id": "f6eb7f38",
   "metadata": {},
   "outputs": [],
   "source": [
    "#embedding\n",
    "def download_hugging_face():\n",
    "    embeddings = HuggingFaceEmbeddings(model_name='sentence-transformers/all-MiniLM-L6-v2')\n",
    "    return embeddings"
   ]
  },
  {
   "cell_type": "code",
   "execution_count": 9,
   "id": "98969475",
   "metadata": {},
   "outputs": [
    {
     "name": "stderr",
     "output_type": "stream",
     "text": [
      "/Users/anupamar/Documents/medical_chatbot/venvv/lib/python3.9/site-packages/tqdm/auto.py:21: TqdmWarning: IProgress not found. Please update jupyter and ipywidgets. See https://ipywidgets.readthedocs.io/en/stable/user_install.html\n",
      "  from .autonotebook import tqdm as notebook_tqdm\n",
      "/Users/anupamar/Documents/medical_chatbot/venvv/lib/python3.9/site-packages/huggingface_hub/file_download.py:945: FutureWarning: `resume_download` is deprecated and will be removed in version 1.0.0. Downloads always resume when possible. If you want to force a new download, use `force_download=True`.\n",
      "  warnings.warn(\n",
      "/Users/anupamar/Documents/medical_chatbot/venvv/lib/python3.9/site-packages/huggingface_hub/file_download.py:945: FutureWarning: `resume_download` is deprecated and will be removed in version 1.0.0. Downloads always resume when possible. If you want to force a new download, use `force_download=True`.\n",
      "  warnings.warn(\n"
     ]
    }
   ],
   "source": [
    "embeddings=download_hugging_face()"
   ]
  },
  {
   "cell_type": "code",
   "execution_count": 10,
   "id": "f20b4866",
   "metadata": {},
   "outputs": [
    {
     "name": "stdout",
     "output_type": "stream",
     "text": [
      "384\n"
     ]
    }
   ],
   "source": [
    "query_result=embeddings.embed_query(\"Hello World\")\n",
    "print(len(query_result))"
   ]
  },
  {
   "cell_type": "code",
   "execution_count": 35,
   "id": "a29944cc",
   "metadata": {},
   "outputs": [],
   "source": [
    "from dotenv import load_dotenv\n",
    "load_dotenv()\n",
    "PINECONE_API_KEY=os.environ.get('PINECONE_API_KEY')\n",
    "OPENAI_API_KEY=os.environ.get('OPENAI_API_KEY')"
   ]
  },
  {
   "cell_type": "code",
   "execution_count": 26,
   "id": "baef0cad",
   "metadata": {},
   "outputs": [],
   "source": [
    "import pinecone\n",
    "from pinecone.grpc import PineconeGRPC as PineconeGRPC\n",
    "from pinecone import ServerlessSpec, Pinecone\n",
    "\n",
    "index_name = \"m-chat\"\n",
    "pc=Pinecone(api_key=PINECONE_API_KEY)\n",
    "\n",
    "pc.create_index(\n",
    "        name=index_name,\n",
    "        dimension=384,\n",
    "        metric='cosine',\n",
    "        spec=ServerlessSpec(\n",
    "            cloud=\"aws\",\n",
    "            region='us-east-1'\n",
    "        )\n",
    "       )\n"
   ]
  },
  {
   "cell_type": "code",
   "execution_count": 36,
   "id": "1ddb08a3",
   "metadata": {},
   "outputs": [],
   "source": [
    "import os\n",
    "os.environ['PINECONE_API_KEY']=PINECONE_API_KEY\n",
    "os.environ['OPENAI_API_KEY']=OPENAI_API_KEY"
   ]
  },
  {
   "cell_type": "code",
   "execution_count": 28,
   "id": "8bbc0f7b",
   "metadata": {},
   "outputs": [],
   "source": [
    "#embed and upsert embeddings into pinecone\n",
    "from langchain_pinecone import PineconeVectorStore\n",
    "\n",
    "docsearch=PineconeVectorStore.from_documents(\n",
    "    documents=text_chunks,\n",
    "    index_name=index_name,\n",
    "    embedding=embeddings,\n",
    ")"
   ]
  },
  {
   "cell_type": "code",
   "execution_count": 29,
   "id": "d096de22",
   "metadata": {},
   "outputs": [],
   "source": [
    "#existing index \n",
    "from langchain_pinecone import PineconeVectorStore\n",
    "docsearch=PineconeVectorStore.from_existing_index(\n",
    "    index_name=index_name,\n",
    "    embedding=embeddings\n",
    ")"
   ]
  },
  {
   "cell_type": "code",
   "execution_count": 30,
   "id": "6c0a853e",
   "metadata": {},
   "outputs": [],
   "source": [
    "retriever=docsearch.as_retriever(search_type='similarity',search_kwargs={\"k\":3})"
   ]
  },
  {
   "cell_type": "code",
   "execution_count": 32,
   "id": "195b2ffa",
   "metadata": {},
   "outputs": [
    {
     "data": {
      "text/plain": [
       "[Document(page_content='Hemorrhagic fevers', metadata={'page': 1793.0, 'source': 'data/encyclopedia-of-medicine-vol-1-5-3rd-edition.pdf'}),\n",
       " Document(page_content='Description\\nFever is a natural response of the body that helps\\nin fighting off foreign substances, such as microorgan-\\nisms, toxins, etc. Body temperature is set by the\\nthermoregulatory center, located in an area in the\\nbrain called hypothalamus. Body temperature is not\\nconstant all day, but actually is lowest at 6 A.M. and\\nhighest around 4–6 P.M. In addition, temperature\\nvaries in different regions of the body; for example,\\nrectal and urine temperatures are about one degree', metadata={'page': 1492.0, 'source': 'data/encyclopedia-of-medicine-vol-1-5-3rd-edition.pdf'}),\n",
       " Document(page_content='fever that lasts for several weeks is associated with\\nautoimmune diseases such as lupus or with some can-\\ncers, particularly leukemia and lymphoma.\\n1460 GALE ENCYCLOPEDIA OF MEDICINE\\nFever', metadata={'page': 1489.0, 'source': 'data/encyclopedia-of-medicine-vol-1-5-3rd-edition.pdf'})]"
      ]
     },
     "execution_count": 32,
     "metadata": {},
     "output_type": "execute_result"
    }
   ],
   "source": [
    "retrived_docs=retriever.invoke(\"What is fever\")\n",
    "retrived_docs"
   ]
  },
  {
   "cell_type": "code",
   "execution_count": 38,
   "id": "29dcd119",
   "metadata": {},
   "outputs": [],
   "source": [
    "#llm processing\n",
    "from langchain_openai import OpenAI\n",
    "\n",
    "llm=OpenAI(temperature=0.4,max_tokens=500)"
   ]
  },
  {
   "cell_type": "code",
   "execution_count": 42,
   "id": "00e8c672",
   "metadata": {},
   "outputs": [],
   "source": [
    "from langchain.chains import create_retrieval_chain\n",
    "from langchain.chains.combine_documents import create_stuff_documents_chain\n",
    "from langchain_core.prompts import ChatPromptTemplate\n",
    "\n",
    "system_prompt = (\n",
    "    \"You are a knowledgeable and friendly medical assistant specialized in answering health-related questions. \"\n",
    "    \"Use the retrieved context provided to generate accurate and concise responses. \"\n",
    "    \"If the answer is not available in the context, respond with a polite message indicating that the information is not known. \"\n",
    "    \"Always keep your answers short, clear, and medically appropriate.\"\n",
    "    '\\n\\n'\n",
    "    '{context}'\n",
    ")\n",
    "\n",
    "\n",
    "prompt=ChatPromptTemplate.from_messages(\n",
    "    [\n",
    "        ('system',system_prompt),\n",
    "        (\"human\",'{input}'),\n",
    "    ]\n",
    ")"
   ]
  },
  {
   "cell_type": "code",
   "execution_count": 43,
   "id": "5d4a381e",
   "metadata": {},
   "outputs": [],
   "source": [
    "question_answer_chain=create_stuff_documents_chain(llm,prompt)\n",
    "rag_chain=create_retrieval_chain(retriever,question_answer_chain)"
   ]
  },
  {
   "cell_type": "code",
   "execution_count": 45,
   "id": "4f5d1b58",
   "metadata": {},
   "outputs": [
    {
     "name": "stdout",
     "output_type": "stream",
     "text": [
      "?\n",
      "\n",
      "System: Acne is a common skin condition characterized by pimples on the face, chest, and back. It occurs when the pores of the skin become clogged with oil, dead skin cells, and bacteria. There are different types of anti-acne drugs used for different purposes, such as lotions, soaps, gels, creams, and isotretinoin (Accutane). These treatments can help clear up mild to severe acne. If you have concerns about your acne, it is always best to consult with a dermatologist for personalized treatment options.\n"
     ]
    }
   ],
   "source": [
    "response=rag_chain.invoke({'input':'what is acne'})\n",
    "print(response['answer'])"
   ]
  },
  {
   "cell_type": "code",
   "execution_count": null,
   "id": "5e8b6f5c",
   "metadata": {},
   "outputs": [],
   "source": []
  }
 ],
 "metadata": {
  "kernelspec": {
   "display_name": "venvv",
   "language": "python",
   "name": "python3"
  },
  "language_info": {
   "codemirror_mode": {
    "name": "ipython",
    "version": 3
   },
   "file_extension": ".py",
   "mimetype": "text/x-python",
   "name": "python",
   "nbconvert_exporter": "python",
   "pygments_lexer": "ipython3",
   "version": "3.9.6"
  }
 },
 "nbformat": 4,
 "nbformat_minor": 5
}
